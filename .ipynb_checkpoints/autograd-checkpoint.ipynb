{
 "cells": [
  {
   "cell_type": "code",
   "execution_count": 2,
   "metadata": {},
   "outputs": [],
   "source": [
    "import torch"
   ]
  },
  {
   "cell_type": "code",
   "execution_count": 20,
   "metadata": {},
   "outputs": [
    {
     "name": "stdout",
     "output_type": "stream",
     "text": [
      "tensor([[3., 3.],\n",
      "        [3., 3.]], grad_fn=<AddBackward0>)\n",
      "tensor([[36., 36.],\n",
      "        [36., 36.]], grad_fn=<MulBackward0>)\n",
      "tensor(36., grad_fn=<MeanBackward0>)\n",
      "tensor([[6., 6.],\n",
      "        [6., 6.]])\n"
     ]
    }
   ],
   "source": [
    "'''requires_grad needs to be set for Tensor to track computation'''\n",
    "\n",
    "x = torch.ones(2, 2, requires_grad=True)\n",
    "#This is used to change grad\n",
    "x.requires_grad_(False)\n",
    "x.requires_grad_(True)\n",
    "\n",
    "#same content but No gradient computed\n",
    "detx = x.detach()\n",
    "\n",
    "y = x + 2\n",
    "#Now y has requires_grad = True\n",
    "print(y)\n",
    "\n",
    "z = y * y * 4\n",
    "print(z)\n",
    "\n",
    "out = z.mean()\n",
    "print(out)\n",
    "\n",
    "out.backward()\n",
    "print(x.grad)"
   ]
  },
  {
   "cell_type": "code",
   "execution_count": null,
   "metadata": {},
   "outputs": [],
   "source": []
  }
 ],
 "metadata": {
  "kernelspec": {
   "display_name": "Python 3",
   "language": "python",
   "name": "python3"
  },
  "language_info": {
   "codemirror_mode": {
    "name": "ipython",
    "version": 3
   },
   "file_extension": ".py",
   "mimetype": "text/x-python",
   "name": "python",
   "nbconvert_exporter": "python",
   "pygments_lexer": "ipython3",
   "version": "3.7.3"
  }
 },
 "nbformat": 4,
 "nbformat_minor": 2
}
