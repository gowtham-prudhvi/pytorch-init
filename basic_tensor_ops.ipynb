{
 "cells": [
  {
   "cell_type": "code",
   "execution_count": 8,
   "metadata": {},
   "outputs": [],
   "source": [
    "import torch\n",
    "import numpy as np"
   ]
  },
  {
   "cell_type": "code",
   "execution_count": 32,
   "metadata": {},
   "outputs": [
    {
     "name": "stdout",
     "output_type": "stream",
     "text": [
      "torch.Size([5, 3])\n",
      "(5, 3)\n"
     ]
    }
   ],
   "source": [
    "'''Basic Tensors in Pytorch'''\n",
    "#Note : Not tuple like numpy empty,zeros,rand\n",
    "x = torch.empty(5, 3)\n",
    "x = torch.zeros(5, 3, dtype=torch.long)\n",
    "npx = np.zeros((5, 3), dtype=np.float64)\n",
    "y = torch.tensor([5.6, 6.7])\n",
    "npy = np.array([5.6, 6.7])\n",
    "print(x.size()) #shape works here too\n",
    "print(npx.shape)"
   ]
  },
  {
   "cell_type": "code",
   "execution_count": 33,
   "metadata": {},
   "outputs": [
    {
     "name": "stdout",
     "output_type": "stream",
     "text": [
      "tensor([5.6000, 6.7000])\n",
      "tensor([11.2000, 13.4000])\n",
      "torch.Size([2])\n"
     ]
    }
   ],
   "source": [
    "'''Pytorch supports normal addition as well torch.add'''\n",
    "a = y + y\n",
    "print(y)\n",
    "print(a)\n",
    "a = torch.add(y, y)\n",
    "print(a.size())"
   ]
  },
  {
   "cell_type": "code",
   "execution_count": 34,
   "metadata": {},
   "outputs": [
    {
     "name": "stdout",
     "output_type": "stream",
     "text": [
      "torch.Size([1, 2])\n"
     ]
    }
   ],
   "source": [
    "'''View in torch is reshape equivalent in numpy'''\n",
    "a = a.view(1, 2)\n",
    "'''-1 implies it is inferred from other arguments'''\n",
    "a = a.view(-1, 2)\n",
    "print(a.size())"
   ]
  },
  {
   "cell_type": "code",
   "execution_count": 35,
   "metadata": {},
   "outputs": [
    {
     "name": "stdout",
     "output_type": "stream",
     "text": [
      "tensor([0.0559])\n",
      "0.055905040353536606\n"
     ]
    }
   ],
   "source": [
    "'''One element tensor to Python value conversion'''\n",
    "x = torch.randn(1)\n",
    "print(x)\n",
    "print(x.item())"
   ]
  },
  {
   "cell_type": "code",
   "execution_count": 57,
   "metadata": {},
   "outputs": [
    {
     "name": "stdout",
     "output_type": "stream",
     "text": [
      "tensor([0.5527, 0.6367, 0.5108, 0.2761, 0.6883])\n",
      "[0.55265117 0.63668215 0.51079494 0.27606    0.6882616 ]\n",
      "tensor([1.5527, 1.6367, 1.5108, 1.2761, 1.6883])\n",
      "[1.5526512 1.6366822 1.5107949 1.27606   1.6882616]\n",
      "[0.55785186 0.09553132 0.31082237 0.90870017 0.421873  ]\n",
      "tensor([0.5579, 0.0955, 0.3108, 0.9087, 0.4219], dtype=torch.float64)\n"
     ]
    }
   ],
   "source": [
    "'''\n",
    "Tensor and Numpy array conversions\n",
    "\n",
    "Tensors and Numpy arrays use same memory locations so changing one\n",
    "would change the other\n",
    "\n",
    "'''\n",
    "\n",
    "#Tensor to numpy\n",
    "a = torch.rand(5)\n",
    "print(a)\n",
    "b = a.numpy()\n",
    "print(b)\n",
    "\n",
    "#a = a + 1 #This doesn't change b\n",
    "a.add_(1) #This changes b\n",
    "print(a)\n",
    "print(b)\n",
    "\n",
    "#Numpy to Tensor\n",
    "a = np.random.rand(5)\n",
    "b = torch.from_numpy(a)\n",
    "print(a)\n",
    "print(b)"
   ]
  },
  {
   "cell_type": "code",
   "execution_count": 62,
   "metadata": {},
   "outputs": [
    {
     "name": "stdout",
     "output_type": "stream",
     "text": [
      "True\n",
      "tensor([0.5873, 0.9793, 0.1635, 0.4336, 0.5631], device='cuda:0')\n",
      "tensor([0.5873, 0.9793, 0.1635, 0.4336, 0.5631])\n"
     ]
    }
   ],
   "source": [
    "'''CUDA Tensors'''\n",
    "\n",
    "#Check if available\n",
    "print(torch.cuda.is_available())\n",
    "\n",
    "device = torch.device(\"cuda\")\n",
    "\n",
    "#Create Tensor Directly on GPU\n",
    "x = torch.rand(5, device=device)\n",
    "print(x)\n",
    "#Move to CPU now\n",
    "x = x.to(\"cpu\")\n",
    "print(x)"
   ]
  }
 ],
 "metadata": {
  "kernelspec": {
   "display_name": "Python 3",
   "language": "python",
   "name": "python3"
  },
  "language_info": {
   "codemirror_mode": {
    "name": "ipython",
    "version": 3
   },
   "file_extension": ".py",
   "mimetype": "text/x-python",
   "name": "python",
   "nbconvert_exporter": "python",
   "pygments_lexer": "ipython3",
   "version": "3.7.3"
  }
 },
 "nbformat": 4,
 "nbformat_minor": 2
}
